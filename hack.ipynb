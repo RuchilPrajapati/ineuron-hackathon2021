{
 "cells": [
  {
   "cell_type": "code",
   "execution_count": 1,
   "id": "250aa20f",
   "metadata": {},
   "outputs": [],
   "source": [
    "import pandas as pd\n",
    "import numpy as np"
   ]
  },
  {
   "cell_type": "code",
   "execution_count": 2,
   "id": "c155e369",
   "metadata": {},
   "outputs": [],
   "source": [
    "data = pd.read_json('messages.json')"
   ]
  },
  {
   "cell_type": "code",
   "execution_count": 3,
   "id": "00b93dd8",
   "metadata": {},
   "outputs": [
    {
     "data": {
      "text/plain": [
       "Index(['userId', 'exportDate', 'conversations'], dtype='object')"
      ]
     },
     "execution_count": 3,
     "metadata": {},
     "output_type": "execute_result"
    }
   ],
   "source": [
    "data.columns"
   ]
  },
  {
   "cell_type": "code",
   "execution_count": 4,
   "id": "7765b785",
   "metadata": {},
   "outputs": [
    {
     "data": {
      "text/plain": [
       "dict_keys(['id', 'displayName', 'version', 'properties', 'threadProperties', 'MessageList'])"
      ]
     },
     "execution_count": 4,
     "metadata": {},
     "output_type": "execute_result"
    }
   ],
   "source": [
    "data['conversations'][0].keys()"
   ]
  },
  {
   "cell_type": "code",
   "execution_count": 5,
   "id": "a177fdc9",
   "metadata": {},
   "outputs": [
    {
     "data": {
      "text/plain": [
       "dict_keys(['id', 'displayName', 'originalarrivaltime', 'messagetype', 'version', 'content', 'conversationid', 'from', 'properties', 'amsreferences'])"
      ]
     },
     "execution_count": 5,
     "metadata": {},
     "output_type": "execute_result"
    }
   ],
   "source": [
    "data['conversations'][0]['MessageList'][0].keys()"
   ]
  },
  {
   "cell_type": "code",
   "execution_count": 6,
   "id": "a0476ef6",
   "metadata": {},
   "outputs": [],
   "source": [
    "#forming question and answer for each conversation\n",
    "mod_data = []\n",
    "for i in data['conversations']:\n",
    "    mod_data.append([])\n",
    "    for j in i['MessageList'][::-1]:\n",
    "        msg = j['content']\n",
    "        if j['messagetype']=='Event/Call' or '<' in msg:\n",
    "                msg = 'Event/Special'\n",
    "                \n",
    "        if j['displayName']!=None:\n",
    "            if not mod_data[-1]:\n",
    "                mod_data[-1].append([msg,0])\n",
    "            elif mod_data[-1][-1][1]==0:\n",
    "                mod_data[-1][-1][0]+= ' '+msg\n",
    "            else:\n",
    "                mod_data[-1].append([msg,0])\n",
    "        else:\n",
    "            if not mod_data[-1]:\n",
    "                mod_data[-1].append([msg,1])\n",
    "            elif mod_data[-1][-1][1]==1:\n",
    "                mod_data[-1][-1][0]+= ' '+msg\n",
    "            else:\n",
    "                mod_data[-1].append([msg,1])"
   ]
  },
  {
   "cell_type": "code",
   "execution_count": 7,
   "id": "b0b9533d",
   "metadata": {},
   "outputs": [],
   "source": [
    "temp1_data = []\n",
    "for i in mod_data:\n",
    "    for j in i:\n",
    "        temp1_data.append(j[0].split())"
   ]
  },
  {
   "cell_type": "code",
   "execution_count": 8,
   "id": "a82cbbda",
   "metadata": {},
   "outputs": [],
   "source": [
    "#word2vec for each word\n",
    "from nltk.tokenize import sent_tokenize, word_tokenize\n",
    "import gensim\n",
    "from gensim.models import Word2Vec\n",
    "\n",
    "modelW2V = gensim.models.Word2Vec(temp1_data, min_count = 1,vector_size = 100, window = 5)"
   ]
  },
  {
   "cell_type": "code",
   "execution_count": 9,
   "id": "a4862893",
   "metadata": {},
   "outputs": [
    {
     "data": {
      "text/plain": [
       "334120"
      ]
     },
     "execution_count": 9,
     "metadata": {},
     "output_type": "execute_result"
    }
   ],
   "source": [
    "len(modelW2V.wv.key_to_index)"
   ]
  },
  {
   "cell_type": "code",
   "execution_count": 10,
   "id": "b4d72495",
   "metadata": {},
   "outputs": [],
   "source": [
    "#question and answer data for training\n",
    "que_data = []\n",
    "ans_data = []\n",
    "for i in mod_data:\n",
    "    t1 = []\n",
    "    t2 = []\n",
    "    for j in range(0, len(i)-1, 2):\n",
    "        t1.append(i[j][0].split())\n",
    "        t2.append(i[j+1][0].split())\n",
    "    que_data.append(t1)\n",
    "    ans_data.append(t2)"
   ]
  },
  {
   "cell_type": "code",
   "execution_count": 11,
   "id": "7e8e7c2e",
   "metadata": {},
   "outputs": [],
   "source": [
    "#Converting each word to vector\n",
    "train_data = []\n",
    "for i in que_data:\n",
    "    t1 = []\n",
    "    for j in i:\n",
    "        t1.append(list(map(modelW2V.wv.get_vector, j)))\n",
    "    train_data.append(t1)"
   ]
  },
  {
   "cell_type": "code",
   "execution_count": 12,
   "id": "cd90f49d",
   "metadata": {},
   "outputs": [],
   "source": [
    "#Converting each word to vector\n",
    "test_data = []\n",
    "for i in ans_data:\n",
    "    t1 = []\n",
    "    for j in i:\n",
    "        t1.append(list(map(modelW2V.wv.get_vector, j)))\n",
    "    test_data.append(t1)"
   ]
  },
  {
   "cell_type": "code",
   "execution_count": 15,
   "id": "c4943d80",
   "metadata": {},
   "outputs": [],
   "source": [
    "#LSTM RNN using tensorflow\n",
    "from tensorflow.keras import layers, losses\n",
    "from tensorflow.keras.datasets import fashion_mnist\n",
    "from tensorflow.keras.models import Model\n",
    "\n",
    "class Autoencoder(Model):\n",
    "    def __init__(self):\n",
    "        super(Autoencoder, self).__init__()\n",
    "        #self.latent_dim = 128\n",
    "        self.encoder = tf.keras.Sequential([\n",
    "          layers.Embedding(input_dim=100, output_dim=100),\n",
    "          layers.LSTM(128, activation='relu', input_dim=100),\n",
    "          layers.Dense(100, input_dim=128)\n",
    "        ])\n",
    "        self.decoder = tf.keras.Sequential([\n",
    "          layers.Dense(100, activation='sigmoid'),\n",
    "          layers.LSTM(128, activation='relu', input_dim=100),\n",
    "          layers.Dense(100)\n",
    "        ])\n",
    "\n",
    "    def call(self, x):\n",
    "        encoded = self.encoder(x)\n",
    "        decoded = self.decoder(encoded)\n",
    "        return decoded\n",
    "\n",
    "autoencoder = Autoencoder()"
   ]
  },
  {
   "cell_type": "code",
   "execution_count": null,
   "id": "09acd19a",
   "metadata": {},
   "outputs": [],
   "source": [
    "#training model (it was taking more time to train so not able to get results)\n",
    "autoencoder.compile(tf.keras.optimizers.Adam(learning_rate=1e-3), loss=tf.keras.losses.BinaryCrossentropy())\n",
    "autoencoder.fit(train_data, test_data)"
   ]
  }
 ],
 "metadata": {
  "kernelspec": {
   "display_name": "Python 3",
   "language": "python",
   "name": "python3"
  },
  "language_info": {
   "codemirror_mode": {
    "name": "ipython",
    "version": 3
   },
   "file_extension": ".py",
   "mimetype": "text/x-python",
   "name": "python",
   "nbconvert_exporter": "python",
   "pygments_lexer": "ipython3",
   "version": "3.6.8"
  }
 },
 "nbformat": 4,
 "nbformat_minor": 5
}
